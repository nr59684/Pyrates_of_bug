{
 "cells": [
  {
   "cell_type": "code",
   "execution_count": 1,
   "metadata": {},
   "outputs": [
    {
     "name": "stdout",
     "output_type": "stream",
     "text": [
      "    Products  Avg_Price_per_unit  Cost_per_unit  Average_Profit_per_unit  \\\n",
      "0  Product 1                  95             92                      2.8   \n",
      "1  Product 2                  37             27                     10.0   \n",
      "2  Product 3                  34             26                      8.5   \n",
      "3  Product 4                  32             30                      2.8   \n",
      "4  Product 5                  62             45                     16.0   \n",
      "\n",
      "   Average_units_sold  Incremental_acquisition  Increase_sale_volume  \n",
      "0                 0.6                  0.00323               0.08906  \n",
      "1                 0.8                  0.00106               0.01991  \n",
      "2                 0.6                  0.00328               0.03778  \n",
      "3                 0.7                  0.00000               0.08562  \n",
      "4                 1.0                  0.00079               0.02637  \n"
     ]
    }
   ],
   "source": [
    "customer_count=1000\n",
    "import csv\n",
    "import pandas as pd\n",
    "vendor_data = pd.read_csv(\"Vendor_Data.csv\")\n",
    "print(vendor_data.head())"
   ]
  },
  {
   "cell_type": "code",
   "execution_count": null,
   "metadata": {},
   "outputs": [],
   "source": []
  }
 ],
 "metadata": {
  "kernelspec": {
   "display_name": "Python 3",
   "language": "python",
   "name": "python3"
  },
  "language_info": {
   "codemirror_mode": {
    "name": "ipython",
    "version": 3
   },
   "file_extension": ".py",
   "mimetype": "text/x-python",
   "name": "python",
   "nbconvert_exporter": "python",
   "pygments_lexer": "ipython3",
   "version": "3.7.2"
  }
 },
 "nbformat": 4,
 "nbformat_minor": 2
}
